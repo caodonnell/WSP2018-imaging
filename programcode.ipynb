{
 "cells": [
  {
   "cell_type": "markdown",
   "metadata": {},
   "source": [
    "# Import statements\n",
    "\n",
    "Also includes a bit to suppress warnings about large images"
   ]
  },
  {
   "cell_type": "code",
   "execution_count": 1,
   "metadata": {
    "collapsed": true
   },
   "outputs": [],
   "source": [
    "import os, time\n",
    "import numpy as np\n",
    "from PIL import Image\n",
    "import matplotlib.pyplot as plt\n",
    "from matplotlib.pyplot import imshow\n",
    "from astropy.io import fits\n",
    "import requests, zipfile\n",
    "import ipywidgets as w\n",
    "#from IPython.display import display\n",
    "\n",
    "#ignore image size warnings\n",
    "import warnings\n",
    "#warnings.simplefilter(\"ignore\")\n",
    "warnings.filterwarnings(\"ignore\", message=\"Image size\")"
   ]
  },
  {
   "cell_type": "markdown",
   "metadata": {},
   "source": [
    "# Interactive Methods\n",
    "\n",
    "Starts the GUI-ish interface for each program"
   ]
  },
  {
   "cell_type": "code",
   "execution_count": 2,
   "metadata": {
    "collapsed": true
   },
   "outputs": [],
   "source": [
    "def start_rescale():\n",
    "    width = w.FloatText(value=2600., Text='width')\n",
    "    height = w.FloatText(value=1600., Text='height')\n",
    "    scale = w.FloatText(value=10., Text='scale')\n",
    "    w.interact(rescale, scale=scale, name='lestermadeline_BW.jpg', width=width, height=height)\n",
    "    return\n",
    "\n",
    "def start_rebin():\n",
    "    #bins = w.IntSlider(value=10, min=1, max=256, step=1,description='bins', continuous_update=False)\n",
    "    bins = w.BoundedIntText(value=10, min=1, max=256, step=1,description='bins')\n",
    "    w.interact(rebin, name='lestermadeline_BW_5mile.jpg', bins=bins)\n",
    "    return\n",
    "\n",
    "def start_rescale_rebin():\n",
    "    width = w.FloatText(value=2600., Text='width')\n",
    "    height = w.FloatText(value=1600., Text='height')\n",
    "    scale = w.FloatText(value=10., Text='scale')\n",
    "    bins = w.BoundedIntText(value=10, min=1, max=256, step=1,description='bins')\n",
    "    w.interact(rescale_rebin, scale=scale, bins=bins, name='lestermadeline_BW.jpg', width=width, height=height)\n",
    "    return\n",
    "    \n",
    "def start_splitRGB():\n",
    "    w.interact_manual(splitRGB, name='rainbowvalley.jpg', flip=w.fixed(True))\n",
    "    return\n",
    "\n",
    "def download():\n",
    "    w.interact_manual(downloader, url='', name='file.jpg')\n",
    "    return\n",
    "\n",
    "def start_rebin_RGB():\n",
    "    #bins = w.IntSlider(value=10, min=1, max=256, step=1,description='bins', continuous_update=False)\n",
    "    bins = w.BoundedIntText(value=10, min=1, max=256, step=1,description='bins')\n",
    "    w.interact(rebin_RGB, name='Disneyland.png', bins=bins)\n",
    "    return\n",
    "\n",
    "def start_rescale_rebin_RGB():\n",
    "    width = w.FloatText(value=2600., Text='width')\n",
    "    height = w.FloatText(value=1600., Text='height')\n",
    "    scale = w.FloatText(value=10., Text='scale')\n",
    "    bins = w.BoundedIntText(value=10, min=1, max=256, step=1,description='bins')\n",
    "    w.interact(rescale_rebin_RGB, scale=scale, bins=bins, name='Disneyland.png', width=width, height=height)\n",
    "    return"
   ]
  },
  {
   "cell_type": "markdown",
   "metadata": {},
   "source": [
    "And some manual methods (in case things are too slow)"
   ]
  },
  {
   "cell_type": "code",
   "execution_count": 3,
   "metadata": {
    "collapsed": true
   },
   "outputs": [],
   "source": [
    "def start_rescale_manual():\n",
    "    #v = interact_manual(open_image,image_name=\"lestermadeline_BW.jpg\", image_width=2600, image_height=1600)\n",
    "    #display(v)\n",
    "    width = w.FloatText(value=2600., Text='width')\n",
    "    height = w.FloatText(value=1600., Text='height')\n",
    "    w.interact_manual(open_rescale, name='lestermadeline_BW.jpg', width=width, height=height)\n",
    "    return\n",
    "\n",
    "def open_rescale(name, width, height):\n",
    "    #img_width = float(image_width)\n",
    "    #img_height = float(image_height)\n",
    "    scale = w.FloatText(value=10., Text='scale')\n",
    "    w.interact_manual(rescale, scale=scale, image_name=w.fixed(name), \n",
    "                      image_width=w.fixed(width), image_height=w.fixed(height))\n",
    "    return\n",
    "\n",
    "def start_rebin_manual():\n",
    "    #bins = w.IntSlider(value=10, min=1, max=256, step=1,description='bins', continuous_update=False)\n",
    "    bins = w.BoundedIntText(value=10, min=1, max=256, step=1,description='bins')\n",
    "    w.interact_manual(rebin, name='lestermadeline_BW_5mile.jpg', bins=bins)\n",
    "    return\n",
    "\n",
    "def start_rescale_rebin_manual():\n",
    "    width = w.FloatText(value=2600., Text='width')\n",
    "    height = w.FloatText(value=1600., Text='height')\n",
    "    w.interact_manual(open_rescale_rebin, name='lestermadeline_BW.jpg', width=width, height=height)\n",
    "    return \n",
    "\n",
    "def open_rescale_rebin(name, width, height):\n",
    "    scale = w.FloatText(value=10., Text='scale')\n",
    "    bins = w.IntSlider(value=10, min=1, max=256, step=1,description='bins', continuous_update=False)\n",
    "    w.interact_manual(rescale_rebin, scale=scale, bins=bins, img_name=w.fixed(name), \n",
    "                      img_width=w.fixed(width), img_height=w.fixed(height))\n",
    "    return\n",
    "\n",
    "def start_rebin_RGB_manual():\n",
    "    #bins = w.IntSlider(value=10, min=1, max=256, step=1,description='bins', continuous_update=False)\n",
    "    bins = w.BoundedIntText(value=10, min=1, max=256, step=1,description='bins')\n",
    "    w.interact_manual(rebin_RGB, name='Disneyland.png', bins=bins)\n",
    "    return\n",
    "\n",
    "def start_rescale_rebin_RGB_manual():\n",
    "    width = w.FloatText(value=2600., Text='width')\n",
    "    height = w.FloatText(value=1600., Text='height')\n",
    "    w.interact_manual(open_rescale_rebin_RGB, name='lestermadeline_BW.jpg', width=width, height=height)\n",
    "    return \n",
    "\n",
    "def open_rescale_rebin_RGB(name, width, height):\n",
    "    scale = w.FloatText(value=10., Text='scale')\n",
    "    bins = w.IntSlider(value=10, min=1, max=256, step=1,description='bins', continuous_update=False)\n",
    "    w.interact_manual(rescale_rebin_RGB, scale=scale, bins=bins, img_name=w.fixed(name), \n",
    "                      img_width=w.fixed(width), img_height=w.fixed(height))"
   ]
  },
  {
   "cell_type": "markdown",
   "metadata": {},
   "source": [
    "# Rescaling functions"
   ]
  },
  {
   "cell_type": "code",
   "execution_count": 4,
   "metadata": {
    "collapsed": true
   },
   "outputs": [],
   "source": [
    "def rescale_img(img, newscale, img_width, img_height):\n",
    "    px_width, px_height = img.size\n",
    "    widthscale = 1.0*img_width/px_width\n",
    "    heightscale = 1.0*img_height/px_height\n",
    "    \n",
    "    if newscale < widthscale or newscale < heightscale:\n",
    "        print(\"Warning: Your desired image scale is a finer resolution than in the original image; defaulting to the finest scale available\")\n",
    "        newscale = max(widthscale, heightscale)\n",
    "    if newscale > img_width or newscale > img_height:\n",
    "        print(\"Warning: Your desired image scale is larger than the original image; defaulting to the image size\")\n",
    "        newscale = min(img_width, img_height)\n",
    "          \n",
    "    new_px_width = int(1.0*px_width/(1.0*newscale/widthscale))\n",
    "    new_px_height = int(1.0*px_height/(1.0*newscale/heightscale))\n",
    "    #print(new_px_width, new_px_height)\n",
    "    return img.resize((new_px_width, new_px_height))\n",
    "\n",
    "#scale and img width/height have to be in same distance units\n",
    "#in this case, miles\n",
    "def rescale(scale, name=\"lestermadeline_BW.jpg\", width=2600, height=1600):\n",
    "    img = Image.open(name)\n",
    "     \n",
    "    %matplotlib notebook\n",
    "    fig = plt.figure()\n",
    "    \n",
    "    new_img = rescale_img(img, scale, width, height)\n",
    "    imshow(np.asarray(new_img), cmap='gray')\n",
    "    plt.axis('off')\n",
    "    \n",
    "    plt.show()\n",
    "    img.close()\n",
    "    return "
   ]
  },
  {
   "cell_type": "markdown",
   "metadata": {},
   "source": [
    "# Rebinning methods (greyscale)"
   ]
  },
  {
   "cell_type": "code",
   "execution_count": 5,
   "metadata": {
    "collapsed": true
   },
   "outputs": [],
   "source": [
    "#function to help with rebinning a grey scale image\n",
    "#def rebin_func(value, imgscale, truescale):\n",
    "#    return truescale[np.where(imgscale <= value)[0][-1]]\n",
    "\n",
    "#function takes an opened image to rebin\n",
    "def rebin_img(img, nbins):\n",
    "    bands = img.getbands()\n",
    "    if len(bands) > 1: img = img.convert('L')\n",
    "    \n",
    "    imgarray = np.asarray(img)\n",
    "    \n",
    "    if nbins < 0:\n",
    "        print(\"Warning: the number of bins has to be greater than 0; defaulting to 1 bin\")\n",
    "        nbins = 0\n",
    "    if nbins > 256:\n",
    "        print(\"Warning: maximum number of bins available is 256\")\n",
    "        \n",
    "    imgmin = np.min(imgarray)\n",
    "    imgmax = np.max(imgarray)\n",
    "    imgscale = np.linspace(imgmin, imgmax, nbins+1)\n",
    "    imgscale[-1] = imgscale[-1] + 1 #to capture max value\n",
    "    truescale = np.linspace(0, 255, nbins)\n",
    "    newimg = truescale[0]*np.ma.masked_where(np.logical_and(imgarray >= imgscale[0], imgarray < imgscale[1]), imgarray, copy=False).mask\n",
    "    for i in range(1, nbins): \n",
    "        newimg = newimg+truescale[i]*np.ma.masked_where(np.logical_and(imgarray >= imgscale[i], imgarray < imgscale[i+1]), imgarray, copy=False).mask\n",
    "    return newimg\n",
    "    #return [[rebin_func(val, imgscale, truescale) for val in x] for x in imgarray]\n",
    "\n",
    "\n",
    "def rebin(bins, name=\"lestermadeline_BW_5mile.jpg\"):\n",
    "    img = Image.open(name)\n",
    "    \n",
    "    new_img = rebin_img(img, bins)\n",
    "    \n",
    "    %matplotlib notebook\n",
    "    fig = plt.figure()\n",
    "\n",
    "    imshow(new_img, cmap='gray')\n",
    "    plt.axis('off')\n",
    "    \n",
    "    plt.show()\n",
    "    img.close()\n",
    "    return "
   ]
  },
  {
   "cell_type": "markdown",
   "metadata": {},
   "source": [
    "# Rebinning methods (RGB)\n",
    "\n",
    "Note that it does use the rebin_img function above for each band separately"
   ]
  },
  {
   "cell_type": "code",
   "execution_count": null,
   "metadata": {
    "collapsed": true
   },
   "outputs": [],
   "source": [
    "def array2Image(array):\n",
    "    return Image.fromarray(np.uint8(array))\n",
    "\n",
    "def rebin_rgb_func(img, nbins):\n",
    "    r,g,b = img.split()\n",
    "    rnew = array2Image(rebin_img(r, nbins))\n",
    "    gnew = array2Image(rebin_img(g, nbins))\n",
    "    bnew = array2Image(rebin_img(b, nbins))\n",
    "    for band in [rnew, gnew, bnew]:\n",
    "        bandarray = np.asarray(band)\n",
    "        #print(np.unique(bandarray))\n",
    "    return Image.merge(\"RGB\", (rnew, gnew, bnew))\n",
    "    \n",
    "def rebin_RGB(bins, name=\"monterey.png\"):\n",
    "    img = Image.open(name)\n",
    "    \n",
    "    new_img = rebin_rgb_func(img, bins)\n",
    "    \n",
    "    %matplotlib notebook\n",
    "    fig = plt.figure()\n",
    "    imshow(new_img)\n",
    "    plt.axis('off')\n",
    "    plt.show()\n",
    "    img.close()\n",
    "    return \n"
   ]
  }
 ],
 "metadata": {
  "kernelspec": {
   "display_name": "Python 2",
   "language": "python",
   "name": "python2"
  },
  "language_info": {
   "codemirror_mode": {
    "name": "ipython",
    "version": 2
   },
   "file_extension": ".py",
   "mimetype": "text/x-python",
   "name": "python",
   "nbconvert_exporter": "python",
   "pygments_lexer": "ipython2",
   "version": "2.7.13"
  }
 },
 "nbformat": 4,
 "nbformat_minor": 0
}
