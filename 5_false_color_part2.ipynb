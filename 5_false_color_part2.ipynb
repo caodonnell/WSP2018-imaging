{
 "cells": [
  {
   "cell_type": "markdown",
   "metadata": {},
   "source": [
    "# Task 5: \"Imaging\" without light\n",
    "\n",
    "So far, all of our images are produced by having a camera that measures light in its various forms. However, not all images are produced from light - sometimes, we create images using other kinds of data. Common examples include the images produced by MRI machines which uses magnetic fields to produce images, or the use of gravitational data to measure the composition of rocks (e.g., [the bedrock under Antarctica](http://time.com/antarctica-climate-change/)). \n",
    "\n",
    "## Magnetic vision\n",
    "\n",
    "Some animals have proteins in their eyes that are sensitive to things other than light. For example, birds can \"see\" magnetic fields - their eyes convert the magnetic field strength into a \"blue\" filter over their view:\n",
    "\n",
    "![birds magnetic field vision](http://www.ks.uiuc.edu/Research/cryptochrome/Images/magnetic_vision.jpg \"The blue filter indicates magnetic field strength\")\n",
    "\n",
    "[This Forbes article](https://www.forbes.com/sites/trevornace/2018/04/04/we-finally-know-how-birds-can-see-earths-magnetic-field/#33d8a72d20e1) has a bit more detail on how this works.\n",
    "\n",
    "### Your activity for today\n",
    "\n",
    "In this activity, you'll use a magnometer to create a simulation of what a bird's vision might look like. Note that different magnometers may report different numbers because of calibration issues, but what we care about is how things deviate (i.e., where there's more or less magnetic field strength). Run the cell below to give this notebook access to the necessary programs:\n",
    "\n",
    "\n"
   ]
  },
  {
   "cell_type": "code",
   "execution_count": null,
   "metadata": {},
   "outputs": [],
   "source": [
    "%run programcode.ipynb"
   ]
  },
  {
   "cell_type": "markdown",
   "metadata": {},
   "source": [
    "Now run the cell below to start the program. It'll first ask you about the grid size - how many pixels are on each side of your grid. When you click the button, you'll see a grid to enter your measurements. Working in pairs (or small groups), use the grid given to you to make measurements of the magnetic field strength around the object. Enter the measured values, and click the button below the grid to see an image made from your data."
   ]
  },
  {
   "cell_type": "code",
   "execution_count": null,
   "metadata": {},
   "outputs": [],
   "source": [
    "start_dataplot()"
   ]
  },
  {
   "cell_type": "markdown",
   "metadata": {},
   "source": [
    "What do you notice about the direction of the magnetic field?\n",
    "\n",
    "You'll be given another board with a magnet hidden within it. Using the program above, make measurements along the board to locate the magnet. You can adjust the grid size (if needed) and re-enter your new data to make an image.\n",
    "\n",
    "## Ultrasonic vision\n",
    "\n",
    "Another example of \"imaging\" without using light is by using sound waves. Examples include sonar and radar, or the echolocation techniques of bats or dolphins. In these cases, the submarine, airplane, bat, or dolphin emits sound waves which reflect off nearby objects. By listening for the delay between when they emit the sound and receive the reflection/echo, they can tell how far away something  is. \n",
    "\n",
    "Today we'll be using an ultrasonic range finder. It has a laser in it to indicate what you're measuring to. Using the range finder and program above, generate an echolocation \"image\"."
   ]
  },
  {
   "cell_type": "code",
   "execution_count": null,
   "metadata": {},
   "outputs": [],
   "source": [
    "start_dataplot()"
   ]
  },
  {
   "cell_type": "code",
   "execution_count": null,
   "metadata": {},
   "outputs": [],
   "source": []
  }
 ],
 "metadata": {
  "kernelspec": {
   "display_name": "Python [conda env:py34]",
   "language": "python",
   "name": "conda-env-py34-py"
  },
  "language_info": {
   "codemirror_mode": {
    "name": "ipython",
    "version": 2
   },
   "file_extension": ".py",
   "mimetype": "text/x-python",
   "name": "python",
   "nbconvert_exporter": "python",
   "pygments_lexer": "ipython2",
   "version": "2.7.13"
  }
 },
 "nbformat": 4,
 "nbformat_minor": 2
}
