{
 "cells": [
  {
   "cell_type": "code",
   "execution_count": null,
   "metadata": {
    "collapsed": true
   },
   "outputs": [],
   "source": [
    "%run programcode.ipynb"
   ]
  },
  {
   "cell_type": "code",
   "execution_count": null,
   "metadata": {
    "collapsed": false
   },
   "outputs": [],
   "source": [
    "start_rebin()"
   ]
  },
  {
   "cell_type": "markdown",
   "metadata": {},
   "source": [
    "### Combining pixel and binning in images\n",
    "\n",
    "Previously, we've rescaled the resolution of this image, and now we're playing around the number of colors. You can combine these two methods - try it below! Note that you have to specify both a scale and a number of bins. What happens if you change one of these parameters while leaving the other one constant?\n",
    "\n",
    "Note that when you start the program, the \"name\" field is blank - you have to input in the image name, and if this field is blank (or has an incorrect image name), error messages may appear because the program will be unable to open an image file. \n",
    "\n",
    "Some images to play with are\n",
    "* lestermadeline_BW_5mile.jpg"
   ]
  },
  {
   "cell_type": "code",
   "execution_count": null,
   "metadata": {
    "collapsed": false
   },
   "outputs": [],
   "source": [
    "start_rescale_rebin()"
   ]
  },
  {
   "cell_type": "markdown",
   "metadata": {},
   "source": [
    "### Trying this out with other images\n",
    "\n",
    "As with the previous task, you can use different images for this. "
   ]
  },
  {
   "cell_type": "code",
   "execution_count": null,
   "metadata": {
    "collapsed": true
   },
   "outputs": [],
   "source": []
  }
 ],
 "metadata": {
  "kernelspec": {
   "display_name": "Python 2",
   "language": "python",
   "name": "python2"
  },
  "language_info": {
   "codemirror_mode": {
    "name": "ipython",
    "version": 2
   },
   "file_extension": ".py",
   "mimetype": "text/x-python",
   "name": "python",
   "nbconvert_exporter": "python",
   "pygments_lexer": "ipython2",
   "version": "2.7.13"
  }
 },
 "nbformat": 4,
 "nbformat_minor": 0
}
