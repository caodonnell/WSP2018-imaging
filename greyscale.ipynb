{
 "cells": [
  {
   "cell_type": "code",
   "execution_count": null,
   "metadata": {
    "collapsed": true
   },
   "outputs": [],
   "source": [
    "from allfuncs import *\n",
    "%matplotlib notebook"
   ]
  },
  {
   "cell_type": "code",
   "execution_count": null,
   "metadata": {
    "collapsed": false
   },
   "outputs": [],
   "source": [
    "interact(rebin, nbins='', img_name='lestermadeline_BW_5mile.jpg')"
   ]
  },
  {
   "cell_type": "code",
   "execution_count": null,
   "metadata": {
    "collapsed": false
   },
   "outputs": [],
   "source": [
    "nbins = 5\n",
    "\n",
    "rebin(nbins)"
   ]
  },
  {
   "cell_type": "markdown",
   "metadata": {},
   "source": [
    "### Combining pixel and binning in images\n",
    "\n",
    "Previously, we've rescaled the resolution of this image, and now we're playing around the number of colors. You can combine these two methods - try it below! Note that you have to specify both a scale and a number of bins. What happens if you change one of these parameters while leaving the other one constant?"
   ]
  },
  {
   "cell_type": "code",
   "execution_count": null,
   "metadata": {
    "collapsed": false
   },
   "outputs": [],
   "source": [
    "rescale_rebin(scale=50, bins=50)"
   ]
  },
  {
   "cell_type": "markdown",
   "metadata": {},
   "source": [
    "### Trying this out with other images\n",
    "\n",
    "As with the previous task, you can use different images for this. The full calls are\n",
    "```\n",
    "rebin(nbins, img_name=\"lestermadeline_BW_5mile.jpg\")\n",
    "rescale_rebin(scale=100, bins=10, img_name=\"lestermadeline_BW_5mile.jpg\", img_width=2600, img_height=1600)\n",
    "```\n",
    "\n",
    "Note that ```rescale_rebin``` combines the arguments for both the ```rescale``` and ```rebin``` methods"
   ]
  },
  {
   "cell_type": "code",
   "execution_count": null,
   "metadata": {
    "collapsed": true
   },
   "outputs": [],
   "source": []
  }
 ],
 "metadata": {
  "kernelspec": {
   "display_name": "Python 2",
   "language": "python",
   "name": "python2"
  },
  "language_info": {
   "codemirror_mode": {
    "name": "ipython",
    "version": 2
   },
   "file_extension": ".py",
   "mimetype": "text/x-python",
   "name": "python",
   "nbconvert_exporter": "python",
   "pygments_lexer": "ipython2",
   "version": "2.7.13"
  }
 },
 "nbformat": 4,
 "nbformat_minor": 0
}
