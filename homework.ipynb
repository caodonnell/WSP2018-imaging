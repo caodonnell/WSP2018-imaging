{
 "cells": [
  {
   "cell_type": "markdown",
   "metadata": {},
   "source": [
    "# Homework\n",
    "\n",
    "### ...which really just means \"please download this software before tomorrow morning\"\n",
    "\n",
    "For the next couple of activities, please install the following:\n",
    "\n",
    "**DS9:** This is a software created by/for astronomers to manipulate images - specifically, to make 3-color RGB images and false-color images. While most photographers will likely do similar tasks in Photoshop or other software, DS9 has all of the tools we'll need and it's free. Please download it from http://ds9.si.edu/site/Download.html\n",
    "\n",
    "**Smartphone Apps:** We'll also be playing with some smartphone apps. If you have a smartphone, please download the following:\n",
    "* Magnometer (free!): \n",
    "  * Android: [Google Play Store link](https://play.google.com/store/apps/details?id=com.chrystianvieyra.android.physicstoolboxmagnetometer). After downloading this verion, I recommend adjusting the settings a bit (the wheel in the upper right corner of the app):\n",
    "    * Under \"Data Display\", select \"Display Readout\" (default is a graph, but we just want the value)\n",
    "    * Under \"Displayed Axis\", un-select \"X\", \"Y\", and \"Z\" (we only need the total magnetic field)\n",
    "    * Under \"Units of Measurement*, select \"Gauss\"\n",
    "    * Scroll further down to \"Sensor Collection Rate\" and select \"Normal\"\n",
    "  * Apple: [ioS App Store link](https://itunes.apple.com/us/app/physics-toolbox-magnetometer/id1003749103). For whatever reason, this app does not have settings to adjust. The total magnetic field is reported in the upper right corner as \"Btotal\" in units of microTesla ($\\mu$T)\n",
    "  "
   ]
  },
  {
   "cell_type": "code",
   "execution_count": null,
   "metadata": {},
   "outputs": [],
   "source": []
  }
 ],
 "metadata": {
  "kernelspec": {
   "display_name": "Python [conda env:py34]",
   "language": "python",
   "name": "conda-env-py34-py"
  },
  "language_info": {
   "codemirror_mode": {
    "name": "ipython",
    "version": 2
   },
   "file_extension": ".py",
   "mimetype": "text/x-python",
   "name": "python",
   "nbconvert_exporter": "python",
   "pygments_lexer": "ipython2",
   "version": "2.7.13"
  }
 },
 "nbformat": 4,
 "nbformat_minor": 2
}
