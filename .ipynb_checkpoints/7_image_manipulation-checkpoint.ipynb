{
 "cells": [
  {
   "cell_type": "markdown",
   "metadata": {},
   "source": [
    "If you've finished Tasks 1-3 and want an easier way to manipulate an image, this is the notebook for you! Start by running this first cell to give this notebook access to all of the programs:"
   ]
  },
  {
   "cell_type": "code",
   "execution_count": null,
   "metadata": {},
   "outputs": [],
   "source": [
    "%run programcode.ipynb"
   ]
  },
  {
   "cell_type": "markdown",
   "metadata": {},
   "source": [
    "Now all of the code options...\n",
    "\n",
    "### Downloading new images\n",
    "\n",
    "You can skip this step if you are uploading the image from your computer into the Binder file directory, or if you're using an image already in the directory:"
   ]
  },
  {
   "cell_type": "code",
   "execution_count": null,
   "metadata": {},
   "outputs": [],
   "source": [
    "download()"
   ]
  },
  {
   "cell_type": "markdown",
   "metadata": {},
   "source": [
    "### Manipulating the images\n",
    "\n",
    "The cells below each contain one of the programs we've used this week:\n",
    "\n",
    "* ```start_rescale```: This program rescales an image to the desired resolution. It requires you to tell it the desired resolution, image name, and image width and height. Note that the scale (physical distance per pixel) must be in the same units as the image width and height (e.g., all are in miles or inches).\n",
    "\n",
    "* ```start_rebin```: This program rebins an image into the desired number of grayscale bins.\n",
    "\n",
    "* ```start_rebin_RGB```: This program rebins a color (RGB) image based on the desired number of bins per color channel.\n",
    "\n",
    "* ```start_rescale_rebin```: Combination of the rescaling and grayscale-only rebinning methods.\n",
    "\n",
    "\n",
    "* ```start_rescale_rebin_RGB```: Combination of the rescaling and RGB-enabled rebinning methods.\n",
    "\n",
    "* ```start_splitRGB```: This program splits an image into individual red, green, and blue FITS images. You can then use DS9 to manipulate the individual channels."
   ]
  },
  {
   "cell_type": "code",
   "execution_count": null,
   "metadata": {},
   "outputs": [],
   "source": [
    "start_rescale()"
   ]
  },
  {
   "cell_type": "code",
   "execution_count": null,
   "metadata": {},
   "outputs": [],
   "source": [
    "start_rebin()"
   ]
  },
  {
   "cell_type": "code",
   "execution_count": null,
   "metadata": {},
   "outputs": [],
   "source": [
    "start_rebin_RGB()"
   ]
  },
  {
   "cell_type": "code",
   "execution_count": null,
   "metadata": {},
   "outputs": [],
   "source": [
    "start_rescale_rebin()"
   ]
  },
  {
   "cell_type": "code",
   "execution_count": null,
   "metadata": {},
   "outputs": [],
   "source": [
    "start_rescale_rebin_RGB()"
   ]
  },
  {
   "cell_type": "code",
   "execution_count": null,
   "metadata": {},
   "outputs": [],
   "source": [
    "start_splitRGB()"
   ]
  },
  {
   "cell_type": "markdown",
   "metadata": {},
   "source": [
    "### Downloading directly into a FITS file\n",
    "\n",
    "If you're up to Task 4, you may want to download an image directly into a FITS file for use in DS9 (note that this program creates a FITS file out of all of the bands in an image and does not split it by channel). Use the program below:"
   ]
  },
  {
   "cell_type": "code",
   "execution_count": null,
   "metadata": {},
   "outputs": [],
   "source": [
    "downloadFITS()"
   ]
  },
  {
   "cell_type": "markdown",
   "metadata": {},
   "source": [
    "### Additional Resources\n",
    "\n",
    "* This website has a variety of image manipulation tools (including ones similar to the programs we've used here): http://pinetools.com/c-images/"
   ]
  },
  {
   "cell_type": "code",
   "execution_count": null,
   "metadata": {},
   "outputs": [],
   "source": []
  }
 ],
 "metadata": {
  "kernelspec": {
   "display_name": "Python [default]",
   "language": "python",
   "name": "python2"
  },
  "language_info": {
   "codemirror_mode": {
    "name": "ipython",
    "version": 2
   },
   "file_extension": ".py",
   "mimetype": "text/x-python",
   "name": "python",
   "nbconvert_exporter": "python",
   "pygments_lexer": "ipython2",
   "version": "2.7.13"
  }
 },
 "nbformat": 4,
 "nbformat_minor": 1
}
