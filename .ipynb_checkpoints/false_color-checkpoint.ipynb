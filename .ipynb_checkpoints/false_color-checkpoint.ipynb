{
 "cells": [
  {
   "cell_type": "markdown",
   "metadata": {},
   "source": [
    "# Task 4: False-Color Images\n",
    "\n",
    "As you likely figured out from the previous task, it's fairly easy to manipulate an image's colors to reflect something that isn't visible to the human eye. Most cameras are tuned to record the world in the same way that we see it, but some cameras are designed to do something different.\n",
    "\n",
    "## Infrared and UV images\n",
    "\n",
    "From the file directory, download DunfieldCreek.zip \n",
    "More examples are available at [the original photographer's website](https://www.lifepixel.com/photography-gear/infrared-vs-color-images)\n",
    "\n",
    "Now try it with cactus.zip from [this photography blog](https://vis-uv-ir-flower-photos.blogspot.com/)\n",
    "\n",
    "Note that animals often see in non-visible wavelengths (e.g., bees are sensitive to ultraviolet (UV) wavelengths.\n",
    "More examples are at [this portfolio](http://myweb.liu.edu/~dhanley/flower/#portfolio) - click on the various categories to see which ones have high contrast in visible wavelengths (what humans see) versus UV (what bees and other insects see). If you click on the thumbnails, you'll see a 2-panel image with the visible image on the left and UV image on the right.\n",
    "\n",
    "If you have time, some more examples are at [this link - click on the \"Infrared\" and \"Ultraviolet-Induced Visible Fluorescence\" tabs](Ultraviolet-Induced Visible Fluorescence)\n",
    "\n",
    "Can use it to preserve artifacts (pick up differences in glazes, etc.): http://acrg.soton.ac.uk/blog/4175/"
   ]
  },
  {
   "cell_type": "code",
   "execution_count": 9,
   "metadata": {
    "collapsed": true
   },
   "outputs": [],
   "source": [
    "%run programcode.ipynb"
   ]
  },
  {
   "cell_type": "code",
   "execution_count": 7,
   "metadata": {
    "collapsed": false
   },
   "outputs": [
    {
     "name": "stdout",
     "output_type": "stream",
     "text": [
      "downloaded image into goes_vapor2.fits\n"
     ]
    }
   ],
   "source": [
    "downloadFITS()"
   ]
  },
  {
   "cell_type": "markdown",
   "metadata": {},
   "source": [
    "## Using weather data\n",
    "\n",
    "The Geostationary Operational Environmental Satellite (GOES) East satellite monitors weather over the eastern hemisphere. It observes data at different wavelengths (bands) to look at different details (descriptions copied from the [GOES-East Image Viewer website](https://www.star.nesdis.noaa.gov/GOES/index.php)):\n",
    "\n",
    "1. **\"Blue\" Band - 1 km resolution** - Visible band 1 is in the blue portion of the spectrum. It is particularly useful for detecting atmospheric aerosols such as smoke and dust.\n",
    "2. **\"Red\" Band - 0.5 km resolution** - Visible band 2 is in the red portion of the spectrum and has the highest resolution of any ABI band at 0.5 km, and for that reason is the primary visible band. It is used primarily to monitor the evolution of clouds throughout the daylight hours.\n",
    "3. **\"Veggie\" Band - 1 km resolution** - Combining band 3 (a near-infrared or \"reflective\" band), along with the 0.64 µm (\"red\") ABI Band 2, will be used for detecting daytime clouds, fog, and aerosols and for calculating a normalized difference vegetation index (NDVI), hence its nickname the \"veggie\" band.\n",
    "4. **\"Cirrus\" Band - 2 km resolution** - Band 4 will detect very thin cirrus clouds during the day. This band is centered in a strong water vapor absorption spectral region. It does not routinely sense the lower troposphere, where there is substantial water vapor, and thus provides excellent daytime sensitivity to high, very thin cirrus under most circumstances.\n",
    "5. **\"Snow/Ice\" Band - 1 km resolution** - During the day band 5 can be used to differentiate ice clouds and snow (relatively dark) from liquid water clouds (relatively bright), such as fog and stratus. It can also detect very hot fires both day and night.\n",
    "6. **\"Cloud Particle Size\" Band - 2 km resolution** - in conjunction with other bands, Band 6 will enable cloud particle size estimation. Cloud particle growth is an indication of cloud development and intensity of that development. Other applications include: use in aerosol particle size estimation, cloud screening, hot-spot detection, and snow detection. \n",
    "7. **\"Shortwave Window\" Band - 2 km resolution** - Band 7 has a variety of applications, including fire detection, cloud particle size retrievals, and differentiating between liquid water and ice clouds. Fire hot spots will show up as relatively small dark gray to black pixels.\n",
    "8. **\"Upper-level Water Vapor\" Band - 2 km resolution** - Band 8 will be used for upper-level tropospheric water vapor tracking, jet stream identification, hurricane track forecasting, mid-latitude storm forecasting, severe weather analysis, upper mid-level moisture estimation (for legacy vertical moisture profiles) and turbulence detection.\n",
    "9. **\"Mid-level Water Vapor\" Band - 2 km resolution** - Band 9 will be used for mid and upper-level tropospheric water vapor tracking, jet stream identification, hurricane track forecasting, mid-latitude storm forecasting, severe weather analysis, and mid-level moisture estimation (for legacy vertical moisture profiles). \n",
    "10. **\"Lower-level Water Vapor\" Band - 2 km resolution** - Band 10 is a water vapor band, meaning it is capable of detecting water vapor at middle to lower portions of the atmosphere, in addition to high clouds. It can detect water vapor lower in the troposphere compared to the water vapor band.\n",
    "11. **\"Cloud-top Phase\" Band - 2 km resolution** - Band 11 is used in combination with Bands 14 and 15 to derive cloud phase and type products. This band is similar to the \"traditional\" IR longwave window band, although this band assists in determining the microphysical properties of clouds.\n",
    "12. **\"Ozone\" Band - 2 km resolution** - Band 12 will provide information both day and night about the dynamics of the atmosphere near the tropopause with high spatial and temporal resolutions. For clear (cloud-free) scenes of view, this band is cooler than the IR window bands because of absorption due to ozone. \n",
    "13. **\"Clean\" Longwave IR Window Band - 2 km resolution** - Band 13 at 10.3 µm is an infrared window, meaning it is not strongly affected by atmospheric water vapor. This channel is useful for detecting clouds all times of day and night and is particularly useful in retrievals of cloud top height.\n",
    "14. **IR Longwave Window Band - 2 km resolution** - the traditional longwave infrared window band, is used to diagnose discrete clouds and organized features for general weather forecasting, analysis, and broadcasting applications. Observations from this IR window channel characterize atmospheric processes associated with extratropical cyclones and also in single thunderstorms and convective complexes.\n",
    "15. **\"Dirty\" Longwave IR Window Band - 2 km resolution** - Band 15 at 12.3 µm offers nearly continuous monitoring for numerous applications, though usually through a split window difference with a cleaner window channel. These differences can better estimate low-level moisture, volcanic ash, airborne dust/sand, sea surface temperature, and cloud particle size.\n",
    "16. **\"CO₂\" Longwave IR Band - 2 km resolution** - Band 16 is used for mean tropospheric air temperature estimation, tropopause delineation, and as part of quantitative cloud products for cloud opacity estimation, cloud-top height assignments of cloud-drift motion vectors, and supplementing Automated Surface Observing System (ASOS) observations.\n",
    "\n",
    "Note that \"GeoColor\" is a combination of some of these bands.\n"
   ]
  },
  {
   "cell_type": "markdown",
   "metadata": {},
   "source": [
    "You can go to the [GOES-East Image Viewer website](https://www.star.nesdis.noaa.gov/GOES/index.php) to view current (within the last 5 minutes) images of the Earth. Some of the views offered are:\n",
    "\n",
    "* **CONUS**: contiguous United States\n",
    "* **Full-Disk**: entire Eastern hemisphere\n",
    "* **Mesoscale**, **Regional**, and **Caribbean/Atlantic**: pick out specific regions\n",
    "\n",
    "For this activity, I'd suggest using CONUS, Full-Disk, or Gulf of Mexico (under Caribbean/Atlantic). Pick images from 3 bands that seem interesting - and make sure all 3 images have the same pixel size! In order to construct them into false-color RGB images in DS9, we'll need to convert the images into FITS files. You have two options:"
   ]
  },
  {
   "cell_type": "markdown",
   "metadata": {},
   "source": [
    "* Click on the desired image (band and pixel size) and copy the URL. Using the program below, download that image into  a FITS file:"
   ]
  },
  {
   "cell_type": "code",
   "execution_count": 8,
   "metadata": {
    "collapsed": true
   },
   "outputs": [],
   "source": [
    "downloadFITS()"
   ]
  },
  {
   "cell_type": "markdown",
   "metadata": {},
   "source": [
    "### OR\n",
    "\n",
    "* Click on the desired image and download it to your computer. You can then upload them into the Binder file directory. Then use the program below to convert it into a FITS image:"
   ]
  },
  {
   "cell_type": "code",
   "execution_count": 10,
   "metadata": {
    "collapsed": false
   },
   "outputs": [
    {
     "name": "stdout",
     "output_type": "stream",
     "text": [
      "converted CrimsonStar_vis.png to CrimsonStar_vis.fits\n"
     ]
    }
   ],
   "source": [
    "convert2FITS()"
   ]
  },
  {
   "cell_type": "markdown",
   "metadata": {},
   "source": [
    "Use the programs above for all 3 images you want. Then open them in DS9 and create an RGB image!"
   ]
  },
  {
   "cell_type": "markdown",
   "metadata": {},
   "source": [
    "## \"Imaging\" without light\n",
    "\n",
    "Some animals have proteins in their eyes that are sensitive to things other than light. For example, birds can \"see\" magnetic fields - their eyes convert the magnetic field strength into a \"blue\" filter over their view:\n",
    "\n",
    "![birds magnetic field vision](http://www.ks.uiuc.edu/Research/cryptochrome/Images/magnetic_vision.jpg \"The blue filter indicates magnetic field strength\")\n",
    "\n",
    "[This Forbes article](https://www.forbes.com/sites/trevornace/2018/04/04/we-finally-know-how-birds-can-see-earths-magnetic-field/#33d8a72d20e1) has a bit more detail on how this works.\n",
    "\n",
    "\n"
   ]
  },
  {
   "cell_type": "code",
   "execution_count": null,
   "metadata": {
    "collapsed": true
   },
   "outputs": [],
   "source": []
  }
 ],
 "metadata": {
  "kernelspec": {
   "display_name": "Python 2",
   "language": "python",
   "name": "python2"
  },
  "language_info": {
   "codemirror_mode": {
    "name": "ipython",
    "version": 2
   },
   "file_extension": ".py",
   "mimetype": "text/x-python",
   "name": "python",
   "nbconvert_exporter": "python",
   "pygments_lexer": "ipython2",
   "version": "2.7.13"
  }
 },
 "nbformat": 4,
 "nbformat_minor": 0
}
