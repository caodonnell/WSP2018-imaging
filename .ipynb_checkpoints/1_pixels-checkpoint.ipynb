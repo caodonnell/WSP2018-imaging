{
 "cells": [
  {
   "cell_type": "markdown",
   "metadata": {},
   "source": [
    "# Task 1: Rescaling an image\n",
    "\n",
    "## But first, a quick introduction to jupter notebooks\n",
    "\n",
    "Welcome to jupyter notebooks! This is an easy visual way to interact with lots of code. If you're curious about what goes into making programs like these work, you can view everything in the file ```programcode.ipynb ``` \n",
    "\n",
    "In a jupyter notebook, each grey box is called a \"cell\" (meaning it's a bit of code). To run the code in a cell, click in it to select the cell and  either\n",
    "\n",
    "* Press the \"Shift\" and \"Enter\" keys on your keyboard at the same time\n",
    "\n",
    "OR\n",
    "\n",
    "* Press the \"Run\" icon ▶| in the toolbar above \n",
    "\n",
    "Try that with this cell below:"
   ]
  },
  {
   "cell_type": "code",
   "execution_count": 1,
   "metadata": {
    "slideshow": {
     "slide_type": "-"
    }
   },
   "outputs": [
    {
     "name": "stdout",
     "output_type": "stream",
     "text": [
      "Hello, world!\n"
     ]
    }
   ],
   "source": [
    "print(\"Hello, world!\")"
   ]
  },
  {
   "cell_type": "markdown",
   "metadata": {
    "slideshow": {
     "slide_type": "-"
    }
   },
   "source": [
    "If you successfully ran the cell, you should see the words \"Hello, world!\" printed below it. \n",
    "\n",
    "To the left of each cell is the word \"In\" followed by some brackets. If a cell hasn't been run (like the one below), the gap between those brackets will be empty. While a cell is running, there will be an asterisk in it. And when it's finished, it'll have a number in it. Try the cell below, which has a brief delay to let you see the asterisk between the brackets:"
   ]
  },
  {
   "cell_type": "code",
   "execution_count": 3,
   "metadata": {
    "scrolled": false
   },
   "outputs": [
    {
     "name": "stdout",
     "output_type": "stream",
     "text": [
      "the asterisk indicates the cell is running\n",
      "as you watched, the asterisk was replaced with a number, indicating the cell is finished\n"
     ]
    }
   ],
   "source": [
    "%run pause.ipynb"
   ]
  },
  {
   "cell_type": "markdown",
   "metadata": {},
   "source": [
    "The number inserted between the brackets increases each time a cell is run. You can use this to trace the order things were done - for instance, the cell above (```%run pause.ipynb```) should have a higher number than the first cell with which printed \"Hello, world!\"\n",
    "\n",
    "And that's all you need to get going with jupyter notebooks!\n",
    "\n",
    "## Now onto rescaling images\n",
    "\n",
    "To make the programs work, run the cell below to give this notebook access to the programs we'll be using:"
   ]
  },
  {
   "cell_type": "code",
   "execution_count": 1,
   "metadata": {},
   "outputs": [
    {
     "name": "stderr",
     "output_type": "stream",
     "text": [
      "/Users/codonnell/anaconda/envs/py34/lib/python2.7/site-packages/matplotlib/font_manager.py:280: UserWarning: Matplotlib is building the font cache using fc-list. This may take a moment.\n",
      "  'Matplotlib is building the font cache using fc-list. '\n"
     ]
    }
   ],
   "source": [
    "%run programcode.ipynb"
   ]
  },
  {
   "cell_type": "markdown",
   "metadata": {},
   "source": [
    "Run the following cell to start the rescaling program. You'll notice it asks for a few pieces of information: \n",
    "\n",
    "* the desired scale, \n",
    "* image name, and \n",
    "* the height and width of the image. \n",
    "\n",
    "For now, let's just work with this one image of hurricanes Lester and Madeline near Hawaii in 2016 (it should already have that filename as well as the image's height/width in miles). When you open the plot, the bottom left corner has some buttons you can use to zoom in and pan around the image. The scale parameter here is in units of miles/pixel, so try different scales (i.e., resolutions). Note that this is a very large image (there's over 100 million pixels in it) so it might take a few seconds to load your results\n",
    "\n",
    "If you're curious about the image, you can [visit the related NASA news post](https://www.nasa.gov/image-feature/hurricanes-madeline-and-lester)."
   ]
  },
  {
   "cell_type": "code",
   "execution_count": 2,
   "metadata": {},
   "outputs": [
    {
     "data": {
      "application/vnd.jupyter.widget-view+json": {
       "model_id": "941288e726e14e18b82b7b83997d55a9",
       "version_major": 2,
       "version_minor": 0
      },
      "text/plain": [
       "aW50ZXJhY3RpdmUoY2hpbGRyZW49KEZsb2F0VGV4dCh2YWx1ZT0xMC4wLCBkZXNjcmlwdGlvbj11J3NjYWxlJyksIFRleHQodmFsdWU9dSdsZXN0ZXJtYWRlbGluZV9CVy5qcGcnLCBkZXNjcmnigKY=\n"
      ]
     },
     "metadata": {},
     "output_type": "display_data"
    }
   ],
   "source": [
    "start_rescale()"
   ]
  },
  {
   "cell_type": "markdown",
   "metadata": {},
   "source": [
    "## Questions to investigate:\n",
    "\n",
    "To optimize a camera system, we want to use a detector with as few pixels as possible (why is that?).\n",
    "\n",
    "But if we want to cover a large area like the image above, that means we need to maximize the number of miles covered by each pixel. This number is known as the *minimum resolution required* to achieve a goal (minimum because it's based on the pixel count). What is the minimum resolution required to identify the following:\n",
    "\n",
    "1. hurricane extent\n",
    "2. boundary of the Big Island of Hawaii\n",
    "3. size of the hurricane's eye\n",
    "4. gaps between the clouds in the hurricanes\n",
    "\n",
    "Hint: don't forget to zoom into parts of an image to see if your scale works!"
   ]
  },
  {
   "cell_type": "markdown",
   "metadata": {},
   "source": [
    "### A couple caveats with these notebooks...\n",
    "\n",
    "1. If you leave a notebook open in the background and it's inactive for more than 10 minutes, you may get a disconnection error. If that happens, close the notebook and reopen it. If you get a 404 error saying they can't find the Binder, reload [insert bitly]\n",
    "2. When you close a notebook, it won't save any of your results. If you want an image you created (e.g., for use during your presentation), click the save icon on the lower left of a plot to make a local copy."
   ]
  },
  {
   "cell_type": "markdown",
   "metadata": {
    "collapsed": true
   },
   "source": [
    "## Working on different images\n",
    "\n",
    "Now let's try using different images.\n",
    "\n",
    "The program above can take any image and rescale it. However, to accomplish this, it needs to know what the image's original physical width and height are, so if you want to use a different image, you'll also need to adjust those parameters. Note that the height, width, and scale all need to be in the same units (e.g., above all 3 were in miles).\n",
    "\n",
    "I'll be giving you an image to use. In keeping with the hurricane theme, we're going to suppose you're creating a camera to survey damage after a hurricane strike. This camera will be mounted on a drone with a bunch of other sensors, so we'd like to go with the minimum resolution again. \n",
    "\n",
    "Go to the main file directory and find that image:\n",
    "\n",
    "1. Open the image to see what you're working with.\n",
    "2. Estimate the physical height and width of the image.\n",
    "3. Run the cell below which starts the rescaling program. Change the image name, height, and width parameters to what you've determined.\n",
    "4. Try different scales and report back."
   ]
  },
  {
   "cell_type": "code",
   "execution_count": null,
   "metadata": {
    "collapsed": true
   },
   "outputs": [],
   "source": [
    "start_rescale()"
   ]
  }
 ],
 "metadata": {
  "kernelspec": {
   "display_name": "Python [default]",
   "language": "python",
   "name": "python2"
  },
  "language_info": {
   "codemirror_mode": {
    "name": "ipython",
    "version": 2
   },
   "file_extension": ".py",
   "mimetype": "text/x-python",
   "name": "python",
   "nbconvert_exporter": "python",
   "pygments_lexer": "ipython2",
   "version": "2.7.13"
  }
 },
 "nbformat": 4,
 "nbformat_minor": 1
}
