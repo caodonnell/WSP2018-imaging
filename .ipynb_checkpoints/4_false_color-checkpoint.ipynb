{
 "cells": [
  {
   "cell_type": "markdown",
   "metadata": {},
   "source": [
    "# Task 4: False-Color Images\n",
    "\n",
    "As you possibly figured out from the previous task, it's fairly easy to manipulate an image's colors to reflect something that isn't visible to the human eye. Most cameras are tuned to record the world in the same way that we see it, but some cameras are designed to do something different.\n",
    "\n",
    "## Infrared (IR) and ultraviolet (UV) images\n",
    "\n",
    "As you may remember from high school science classes, there are many different types of light, and the fancy term for it is the *electromagnetic spectrum*:\n",
    "![EM spectrum](https://imagine.gsfc.nasa.gov/Images/science/EM_spectrum_compare_level1_lg.jpg \"from NASA's Imagine the Universe\")\n",
    "\n",
    "A few useful types of light are:\n",
    "\n",
    "* Our eyes are tuned to what we call *visible* light (because it's what we see), but it's just a small portion of all the light out there. \n",
    "* Light that's redder than our visible red is called *infrared (IR)* light - it's what we use in heat lamps, and it's how a remote control communicates with a TV. \n",
    "* Light that's bluer than our visible blue is called *ultraviolet (UV)* light - it's what gives causes sunburns.\n",
    "\n",
    "Before returning to our hurricane relief theme, we'll work with some other examples to explore IR and UV light. We can't actually \"see\" either type of light, but cameras can detect it. To visualize the radiation, we have to create *false-color images* where we use colors from the visible spectrum to represent \"colors\" in other wavelengths. As an analogy, when you opened the red, green, and blue images in DS9, you probably followed the directions and opened the red FITS file into the red channel and so on. However, if you had instead switched them - opened red as green and vice-versa, etc. - that would be a false-color image. In this case, we'll replace one of the visible color bands with IR and/or UV.\n",
    "\n",
    "### Nature in visible versus IR\n",
    "\n",
    "First, download DunfieldCreek.zip from the file directory. When you open it on your computer, you'll notice there are 4 FITS images: the usual visible red, green, and blue, as well as an IR file. Using DS9, create a 3-color image using 3 of the bands. Since IR is essentially an \"extreme red\", a typical choice would be to use it in the red channel (and skip using the visible red FITS file), but feel free to experiment.\n",
    "\n",
    "Compare the IR image with the visible images. Are there regions of the photo where visible shows more detail than IR? What about IR showing more detail?\n",
    "\n",
    "### Flowers in IR and UV\n",
    "\n",
    "Next, download cactus.zip from the file directory. This one only has 3 files - visible (\"vis\"), IR, and UV FITS files. Open these in DS9. What's similar or different about the details in the flower? Why might that be? (Hint: think about how flowers reproduce... they rely on pollination by bees and other insects).\n",
    "\n",
    "\n",
    "### Other examples\n",
    "\n",
    "If you're interested in exploring this further, here are some additional examples of IR and UV imaging:\n",
    "* IR and UV imaging are useful in preserving artifacts by identifying different glazes, etc. on the surface. This can help archaeologists figure out how a piece used to look and/or restore it. An example is this [study at the University of South Hampton](http://acrg.soton.ac.uk/blog/4175/).\n",
    "* For more photos like the Dunfield Creek example, visit [that photographer's website](https://www.lifepixel.com/photography-gear/infrared-vs-color-images). He displays the photos with a slider bar to compare the visible and IR images.\n",
    "* For more flower images, visit [the photography blog](https://vis-uv-ir-flower-photos.blogspot.com/) I found the cactus flower images at. \n",
    "* And for more detail on flowers, visit [this research portfolio](http://myweb.liu.edu/~dhanley/flower/#portfolio) - click on the various categories to see which ones have high contrast in visible wavelengths (what humans see) versus UV (what bees and other insects see). If you click on the thumbnails, you'll see a 2-panel image with the visible image on the left and UV image on the right.\n",
    "* Even more IR and UV-based photography is available on [Craig Burrow's portfolio](http://www.cpburrows.com/independent-work/) - click on the \"Infrared\" and \"Ultraviolet-Induced Visible Fluorescence\" tabs\n",
    "* If you're really interested in this type of photography, [this technical guide](www.randombio.com/d90infrared.html) gives instructions for how to modify a camera for IR photgraphy."
   ]
  },
  {
   "cell_type": "markdown",
   "metadata": {},
   "source": [
    "## Using weather data\n",
    "\n",
    "Returning to our hurricane relief theme, it turns out non-visible light (especially IR) contains a lot of information about hurricanes. Up until now, we've primarily been focused on disaster relief - how do we find survivors, survey for damage, etc. But a key component of these efforts is what we learn from predicting where hurricanes will strike and with how much force.  \n",
    "\n",
    "We'll use data from a NOAA satellite that monitors the Eastern hemisphere in many bands, including several visible colors and many IR channels. First, as with every other notebook, we need to have access to our programs, so run the cell below:"
   ]
  },
  {
   "cell_type": "code",
   "execution_count": null,
   "metadata": {},
   "outputs": [],
   "source": [
    "%run programcode.ipynb"
   ]
  },
  {
   "cell_type": "markdown",
   "metadata": {},
   "source": [
    "The Geostationary Operational Environmental Satellite (GOES) East satellite monitors weather over the eastern hemisphere. It observes data at different types of light (bands) to look at different details. If you look at the names of the bands, you'll notice that some of them specialize at observing clouds and water vapor at different levels of our atmosphere - it helps to give us a 3D view of a hurricane's structure. Only the first two bands observe visible light - the rest of them observe infrared:\n",
    "\n",
    "1. **\"Blue\" Visible Band** - Detects atmospheric aerosols such as smoke and dust.\n",
    "2. **\"Red\" Visible Band** - Monitors the evolution of clouds throughout the daylight hours.\n",
    "3. **\"Veggie\" Band** - Measures the amount of live vegetation (often used in combination with Band 2).\n",
    "4. **\"Cirrus\" Band** - Detects very thin cirrus clouds above the troposphere.\n",
    "5. **\"Snow/Ice\" Band** - Differentiates between ice clouds and snow (relatively dark) from liquid water clouds (relatively bright), such as fog and stratus. It can also detect very hot fires.\n",
    "6. **\"Cloud Particle Size\" Band** - Estimates the sizes of particles in clouds, which indicates cloud development and its intensity. Other applications include aerosol particle size estimation, cloud screening, hot-spot detection, and snow detection. \n",
    "7. **\"Shortwave Window\" Band** - Variety of applications, including fire detection, cloud particle size retrievals, and differentiating between liquid water and ice clouds. \n",
    "8. **\"Upper-level Water Vapor\" Band** - Measures water vapor in the upper-level troposphere, which is used for jet stream identification, hurricane track forecasting, mid-latitude storm forecasting, severe weather analysis, and more.\n",
    "9. **\"Mid-level Water Vapor\" Band** - Similar to Band 8, but functions at lower altitudes. \n",
    "10. **\"Lower-level Water Vapor\" Band** - Detects water vapor at the lowest altitudes (closest to the ground)\n",
    "11. **\"Cloud-top Phase\" Band** - Determines cloud properties, including phase and type. \n",
    "12. **\"Ozone\" Band** - Measures atmopshere dynamics at the tropopause (boundary between the troposphere - the layer of the atmosphere closest to the ground - and the stratosphere).\n",
    "13. **\"Clean\" Longwave IR Window Band** - Detects clouds and measures their top height. \n",
    "14. **IR Longwave Window Band** - Diagnoses discrete clouds and organized features for general weather forecasting, analysis, and broadcasting applications. Observations from this IR window channel characterize atmospheric processes associated with extratropical cyclones and also in single thunderstorms and convective complexes.\n",
    "15. **\"Dirty\" Longwave IR Window Band** - Estimates low-level moisture, volcanic ash, airborne dust/sand, sea surface temperature, and cloud particle size.\n",
    "16. **\"CO₂\" Longwave IR Band** - Estimates mean tropospheric air temperature, tropopause delineation, and more.\n",
    "\n",
    "Note that the \"GeoColor\" option is a combination of some of these bands (i.e., it is not a distinct band).\n"
   ]
  },
  {
   "cell_type": "markdown",
   "metadata": {},
   "source": [
    "You can go to the [GOES-East Image Viewer website](https://www.star.nesdis.noaa.gov/GOES/index.php) to view current (within the last 5 minutes) images of the Earth. Some of the views offered are:\n",
    "\n",
    "* **CONUS**: contiguous United States\n",
    "* **Full-Disk**: entire Eastern hemisphere\n",
    "* **Mesoscale**, **Regional**, and **Caribbean/Atlantic**: pick out specific regions\n",
    "\n",
    "For this activity, I'd suggest using CONUS, Full-Disk, or Gulf of Mexico (under Caribbean/Atlantic). Select the \"all channel\" option for your desired view to see images from all of the bands. Pick images from 3 bands that seem interesting - and make sure all 3 images have the same pixel size! \n",
    "\n",
    "In order to create false-color RGB images in DS9, we'll need to convert the images into FITS files. You have two options:"
   ]
  },
  {
   "cell_type": "markdown",
   "metadata": {},
   "source": [
    "* Click on the desired image (band and pixel size) and copy the URL. Using the program below, download that image into  a FITS file:"
   ]
  },
  {
   "cell_type": "code",
   "execution_count": null,
   "metadata": {},
   "outputs": [],
   "source": [
    "downloadFITS()"
   ]
  },
  {
   "cell_type": "markdown",
   "metadata": {},
   "source": [
    "### OR\n",
    "\n",
    "* Click on the desired image and download it to your computer. You can then upload them into the Binder file directory. Finally, use the program below to convert it into a FITS image:"
   ]
  },
  {
   "cell_type": "code",
   "execution_count": null,
   "metadata": {},
   "outputs": [],
   "source": [
    "convert2FITS()"
   ]
  },
  {
   "cell_type": "markdown",
   "metadata": {},
   "source": [
    "Use the programs above for all 3 images you want. Then open them in DS9 and create an RGB image!\n",
    "\n",
    "Do different combinations of bands yield different results?"
   ]
  },
  {
   "cell_type": "code",
   "execution_count": null,
   "metadata": {},
   "outputs": [],
   "source": []
  }
 ],
 "metadata": {
  "anaconda-cloud": {},
  "kernelspec": {
   "display_name": "Python [conda env:py34]",
   "language": "python",
   "name": "conda-env-py34-py"
  },
  "language_info": {
   "codemirror_mode": {
    "name": "ipython",
    "version": 2
   },
   "file_extension": ".py",
   "mimetype": "text/x-python",
   "name": "python",
   "nbconvert_exporter": "python",
   "pygments_lexer": "ipython2",
   "version": "2.7.13"
  }
 },
 "nbformat": 4,
 "nbformat_minor": 1
}
