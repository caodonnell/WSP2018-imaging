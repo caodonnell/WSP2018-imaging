{
 "cells": [
  {
   "cell_type": "markdown",
   "metadata": {},
   "source": [
    "# Task 3: Color (RGB) Images\n",
    "\n",
    "Here we'll play with color images using both programs available in this notebook as well as using the software DS9 to have a better interface to manipulate color images. You can download DS9 from http://ds9.si.edu/site/Download.html\n",
    "\n",
    "To start this notebook, run the cell below to access the notebook-specific functions:"
   ]
  },
  {
   "cell_type": "code",
   "execution_count": null,
   "metadata": {},
   "outputs": [],
   "source": [
    "%run programcode.ipynb"
   ]
  },
  {
   "cell_type": "markdown",
   "metadata": {},
   "source": [
    "## Additional information with color\n",
    "\n",
    "So, why do we like color images? Besides aesthetic reasons, having multiple color chanels or bands gives us additional information. I'll use RGB as shorthand for having red, green, and blue color channels (the standard for LCD and other screens)\n",
    "\n",
    "Let's compare how many bins we need in the grayscale rebinning program from the previous task (```start_rebin```) with the output of an RGB rebinning method (cleverly named ```start_rebin_RGB```). For a simple toy example, use the image **Disneyland.png** (an image I took of Mickey's Fun Wheel at Disneyland a couple of years ago) and determine the minimum number of bins to see the detail in Mickey Mouse's face:"
   ]
  },
  {
   "cell_type": "code",
   "execution_count": null,
   "metadata": {},
   "outputs": [],
   "source": [
    "start_rebin()"
   ]
  },
  {
   "cell_type": "code",
   "execution_count": null,
   "metadata": {},
   "outputs": [],
   "source": [
    "start_rebin_RGB()"
   ]
  },
  {
   "cell_type": "markdown",
   "metadata": {
    "collapsed": true
   },
   "source": [
    "Hopefully you'll notice you need fewer bins in the RGB-enabled program. \n",
    "\n",
    "Try the cells above with some of the images from the previous activities. Are there situations where it doesn't make much of a difference to include color? Why or why not?\n",
    "\n",
    "## Combining with rescaling methods\n",
    "\n",
    "As with the grayscale-only version, we can combine the RGB-enabled rebinning program with rescaling:"
   ]
  },
  {
   "cell_type": "code",
   "execution_count": null,
   "metadata": {},
   "outputs": [],
   "source": [
    "start_rescale_rebin_RGB()"
   ]
  },
  {
   "cell_type": "markdown",
   "metadata": {},
   "source": [
    "## Splitting the RGB channels/bands\n",
    "\n",
    "To investigate a bit further, we want to be able to maniplate each color band individually, and that's where DS9 (or similar software) comes in handy. First, we have to split an image into its individual colors, and since we're using DS9, we want the output files to be FITS images (a specific image format developed by astronomers to handle large amounts of data from telescopes). The program below will do that for us. As an example, let's use rainbowvalley.jpg"
   ]
  },
  {
   "cell_type": "code",
   "execution_count": null,
   "metadata": {},
   "outputs": [],
   "source": [
    "start_splitRGB()"
   ]
  },
  {
   "cell_type": "markdown",
   "metadata": {},
   "source": [
    "### Download the RGB files\n",
    "\n",
    "Now if you return to the main binder window with the file directory. You may have to wait a few seconds, but then you'll see some a new zip file appear! It'll have the same name as the original image but it's extension is \".zip\". For the rainbowvally.jpg image above, the zipfile is rainbowvalley.zip. If the zip file doesn't appear, click the refresh icon in the upper right (to the right of \"New\").\n",
    "\n",
    "Check the box next to the zipfile and download it. If you try to open it, your computer should know to unzip it, creating 3 new files with the extension \".fits\". They're denoted as \"\\_R\", \"\\_G\", and \"\\_B\", referring to the red, green, and blue color bands in the original image. For example, if you ran splitRGB on rainbowvalley.jpg, the resulting files are\n",
    "- rainbowvalley_R.fits\n",
    "- rainbowvalley_G.fits\n",
    "- rainbowvalley_B.fits\n",
    "\n",
    "\n",
    "### Making 3-Color Images in DS9\n",
    "\n",
    "Next, open the DS9 application. Below is an abbreviated set of instructions for how to open an RGB image frame in DS9. For a detailed set of instructions (with screenshots), see DS9_rgb.pdf in the file directory.\n",
    "\n",
    "1. Click on **frame** -> **rgb**\n",
    "2. A small window will open titled *RGB*. Move this to the side so that you can see both it and the main DS9 window.\n",
    "3. Initally, you'll notice that all 3 frames are checked as viewable, and in the *Current* column, the button next to *Red* should be selected. If not, click on it.\n",
    "4. In the main window, click on **file** -> **open** and select the \"\\_R\" fits file.\n",
    "5. In the main DS9 window, that band should now appear.\n",
    "6. In the *RGB* window, click the radio button in the *Current* column next to *Green*. Then go to **file** -> **open** and select the \"\\_G\" fits file.\n",
    "7. Repeat Step 6 for the blue band.\n",
    "\n",
    "Now in the main DS9 window, the result should look just like the original image with all its colors! Using the various options in DS9, manipulate the image to investigate the different colors. Are there parts of the image where one color channel is more important? How does adjusting the contrast/color scale of that band affect the full 3-color image?"
   ]
  },
  {
   "cell_type": "markdown",
   "metadata": {},
   "source": [
    "### Using other images in DS9\n",
    "\n",
    "Finally, try the program above (```start_splitRGB```) with some of the hurricane-related images from before. What color channels are most prominent? Are there any that don't provide much information?\n",
    "\n",
    "## Extension: using your own images\n",
    "\n",
    "(Note that these instructions the same as in ```1_pixels.ipynb```)\n",
    "\n",
    "You can also add your own images to manipulate. You have two options for how to add new images:\n",
    "\n",
    "1. **Download images from the Internet:** To download a new image to play with, use the ```download``` program below. It'll ask you for URL to the image (if you're looking at an image online, right click on it and an option like \"Copy Image Address\" or \"Copy Image Location\" should appear), and it also asks for what to name the image file when it's downloaded. If you use this function, it'll download the image to the Binder file directory, and you can use it in any of these programs using the given file name. Note that when you close the Binder, it won't save any changes including new files. If you want to use these images again, you'll have to re-download them."
   ]
  },
  {
   "cell_type": "code",
   "execution_count": null,
   "metadata": {},
   "outputs": [],
   "source": [
    "download()"
   ]
  },
  {
   "cell_type": "markdown",
   "metadata": {},
   "source": [
    "2. **Upload images from your computer:** Want to use something already on your computer? If you go to the binder file directory, the upper right has an option to **Upload** a file. Click on it, find your file of choice, and select it. Binder gives you an option to rename the file if you'd like, and then press the blue upload button. This is a good choice if you think you might want to re-use these images in other activities - again, Binder won't save any changes, but you can re-upload them the next time you want them rather than having to find the URL again.\n",
    "\n",
    "Once you've added your own images to the Binder, you can scroll up and use any of the available programs to manipulate your images. Alternatively, if you return to the Binder file directory, you can use  ```6_image_manipulation.ipynb``` which summarizes all of the relevant programs with much less text in between."
   ]
  },
  {
   "cell_type": "code",
   "execution_count": null,
   "metadata": {},
   "outputs": [],
   "source": []
  }
 ],
 "metadata": {
  "kernelspec": {
   "display_name": "Python [default]",
   "language": "python",
   "name": "python2"
  },
  "language_info": {
   "codemirror_mode": {
    "name": "ipython",
    "version": 2
   },
   "file_extension": ".py",
   "mimetype": "text/x-python",
   "name": "python",
   "nbconvert_exporter": "python",
   "pygments_lexer": "ipython2",
   "version": "2.7.13"
  }
 },
 "nbformat": 4,
 "nbformat_minor": 1
}
