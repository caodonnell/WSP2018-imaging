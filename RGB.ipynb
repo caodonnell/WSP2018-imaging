{
 "cells": [
  {
   "cell_type": "markdown",
   "metadata": {},
   "source": [
    "# Task 3: Color (RGB) Images\n",
    "\n",
    "Here we'll play with color images using both programs available in this notebook as well as using the software DS9 to have a better interface to manipulate color images. You can download DS9 from http://ds9.si.edu/site/Download.html\n",
    "\n",
    "To start this notebook, run the cell below to access the notebook-specific functions:"
   ]
  },
  {
   "cell_type": "code",
   "execution_count": 16,
   "metadata": {
    "collapsed": true
   },
   "outputs": [],
   "source": [
    "%run programcode.ipynb"
   ]
  },
  {
   "cell_type": "markdown",
   "metadata": {},
   "source": [
    "In order to manipulate a color image, we have to split it into RGB (red, green, and blue) channels. For most images you see, these are the default channels or bands in use. The program below will take an image from the file directory and split it into those bands. To demonstrate, we'll use rainbowvalley.jpg though afterwards you will have time to play with your own images."
   ]
  },
  {
   "cell_type": "code",
   "execution_count": 8,
   "metadata": {
    "collapsed": false
   },
   "outputs": [
    {
     "name": "stdout",
     "output_type": "stream",
     "text": [
      "rainbowvalley.jpg split into RGB files - check the file directory for rainbowvalley.zip\n"
     ]
    }
   ],
   "source": [
    "start_splitRGB()"
   ]
  },
  {
   "cell_type": "markdown",
   "metadata": {},
   "source": [
    "### Download the RGB files\n",
    "\n",
    "Now if you return to the main binder window with the file directory. You may have to wait a few seconds, but then you'll see some a new zip file appear! It'll have the same name as the original image but it's extension is \".zip\". For the rainbowvally.jpg image above, the zipfile is rainbowvalley.zip. If the zip file doesn't appear, click the refresh icon in the upper right (to the right of \"New\").\n",
    "\n",
    "Check the box next to the zipfile and download it. If you try to open it, your computer should know to unzip it, creating 3 new files with the extension \".fits\" (a specific image type). They're denoted as \"\\_R\", \"\\_G\", and \"\\_B\", referring to the red, green, and blue color bands in the original image. For example, if you ran splitRGB on rainbowvalley.jpg, the resulting files are\n",
    "- rainbowvalley_R.fits\n",
    "- rainbowvalley_G.fits\n",
    "- rainbowvalley_B.fits\n",
    "\n",
    "\n",
    "### Making 3-Color Images in DS9\n",
    "\n",
    "Next, open the DS9 application. Below is an abbreviated set of instructions for how to open an RGB image frame in DS9. For a detailed set of instructions (with screenshots), see DS9_rgb.pdf in the file directory.\n",
    "\n",
    "1. Click on **frame** -> **rgb**\n",
    "2. A small window will open titled *RGB*. Move this to the side so that you can see both it and the main DS9 window.\n",
    "3. Initally, you'll notice that all 3 frames are checked as viewable, and in the *Current* column, the button next to *Red* should be selected. If not, click on it.\n",
    "4. Go to **file** -> **open** and select the \"\\_R\" fits file.\n",
    "5. In the main DS9 window, that band should now appear.\n",
    "6. In the *RGB* window, click the radio button in the *Current* column next to *Green*. Then go to **file** -> **open** and select the \"\\_G\" fits file.\n",
    "7. Repeat Step 6 for the blue band.\n",
    "\n",
    "Now in the main DS9 window, the result should look just like the original image with all its colors!"
   ]
  },
  {
   "cell_type": "markdown",
   "metadata": {},
   "source": [
    "### Using any image from the Internet\n",
    "\n",
    "This all has been fun, but we can apply all of these methods to (almost) any image you can find on the internet. To download a new image to play with, use the ```downloader``` function:\n",
    "```\n",
    "downloader(\"https://tinyurl.com/y8j7jvxv\", \"Disneyland.png\")\n",
    "```\n",
    "Note that both arguments are inside of quotation marks. The first thing is the url to the image (if you're looking at an image online, right click on it and an option like \"Copy Image Address\" or \"Copy Image Location\" should appear). The second is a name to give the file so that we can use it later...\n",
    "\n",
    "### Alternative method\n",
    "\n",
    "Want to use something already on your computer? If you go to the binder file directory, the upper right has an option to **Upload** a file. Click on it, find your file of choice, and select it. Binder gives you an option to rename the file if you'd like, and then press the blue upload button"
   ]
  },
  {
   "cell_type": "code",
   "execution_count": null,
   "metadata": {
    "collapsed": false
   },
   "outputs": [],
   "source": [
    "#monterey.png:\n",
    "#image I took in Monterey, CA. Based on the size of the flowers, I think the image is \n",
    "#approximately 2 yards across\n",
    "#and 2 yards high (so 72 inches by 72 inches)\n",
    "#url: https://tinyurl.com/ydeolnwk\n",
    "\n",
    "#Disneyland.png:\n",
    "#image I took in Disneyland. Mickey's Fun Wheel is approximately 160' across\n",
    "#so I'm estimating that the image is 390 feet wide and 220 feet high\n",
    "#url: https://tinyurl.com/y8j7jvxv"
   ]
  },
  {
   "cell_type": "code",
   "execution_count": 10,
   "metadata": {
    "collapsed": false
   },
   "outputs": [],
   "source": [
    "download()"
   ]
  },
  {
   "cell_type": "code",
   "execution_count": 17,
   "metadata": {
    "collapsed": false
   },
   "outputs": [],
   "source": [
    "start_rebin_RGB()"
   ]
  },
  {
   "cell_type": "markdown",
   "metadata": {},
   "source": [
    "### Additional information in more colors\n",
    "\n",
    "RGB images have more information in them, simply by having more colors. Start the program below which will rebin the image, but in grayscale only. Change the number of bins and filename to be the same as above"
   ]
  },
  {
   "cell_type": "code",
   "execution_count": null,
   "metadata": {
    "collapsed": false
   },
   "outputs": [],
   "source": [
    "start_rebin()"
   ]
  },
  {
   "cell_type": "code",
   "execution_count": 18,
   "metadata": {
    "collapsed": false
   },
   "outputs": [],
   "source": [
    "start_rescale_rebin_RGB()"
   ]
  },
  {
   "cell_type": "code",
   "execution_count": null,
   "metadata": {
    "collapsed": true
   },
   "outputs": [],
   "source": []
  },
  {
   "cell_type": "code",
   "execution_count": null,
   "metadata": {
    "collapsed": false
   },
   "outputs": [],
   "source": [
    "start_rescale_rebin()"
   ]
  }
 ],
 "metadata": {
  "kernelspec": {
   "display_name": "Python 2",
   "language": "python",
   "name": "python2"
  },
  "language_info": {
   "codemirror_mode": {
    "name": "ipython",
    "version": 2
   },
   "file_extension": ".py",
   "mimetype": "text/x-python",
   "name": "python",
   "nbconvert_exporter": "python",
   "pygments_lexer": "ipython2",
   "version": "2.7.13"
  }
 },
 "nbformat": 4,
 "nbformat_minor": 0
}
