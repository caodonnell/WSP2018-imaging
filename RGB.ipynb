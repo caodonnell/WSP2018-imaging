{
 "cells": [
  {
   "cell_type": "code",
   "execution_count": null,
   "metadata": {
    "collapsed": true
   },
   "outputs": [],
   "source": [
    "%run programcode.ipynb"
   ]
  },
  {
   "cell_type": "code",
   "execution_count": null,
   "metadata": {
    "collapsed": false
   },
   "outputs": [],
   "source": [
    "from allfuncs import *\n",
    "%matplotlib notebook"
   ]
  },
  {
   "cell_type": "code",
   "execution_count": null,
   "metadata": {
    "collapsed": true
   },
   "outputs": [],
   "source": [
    "%%capture\n",
    "%matplotlib widget"
   ]
  },
  {
   "cell_type": "code",
   "execution_count": null,
   "metadata": {
    "collapsed": false
   },
   "outputs": [],
   "source": [
    "start_splitRGB()"
   ]
  },
  {
   "cell_type": "markdown",
   "metadata": {},
   "source": [
    "### Download the RGB files\n",
    "\n",
    "Now if you return to the main binder window with the file directory. You may have to wait a few seconds, but then you'll see some a new zip file appear! It'll have the same name as the original image but it's extension is \".zip\". For the rainbowvally.jpg image above, the zipfile is rainbowvalley.zip.\n",
    "\n",
    "Check the box next to the zipfile and download it. If you try to open it, your computer should know to unzip it, creating 3 new files with the extension \".fits\" (a specific image type). They're denoted as \"\\_R\", \"\\_G\", and \"\\_B\", referring to the red, green, and blue color bands in the original image. For example, if you ran splitRGB on rainbowvalley.jpg, the resulting files are\n",
    "- rainbowvalley_R.fits\n",
    "- rainbowvalley_G.fits\n",
    "- rainbowvalley_B.fits\n",
    "\n",
    "\n",
    "### Making 3-Color Images in DS9\n",
    "\n",
    "Next, open the DS9 application, which you should have downloaded from http://ds9.si.edu/site/Download.html\n",
    "\n",
    "1. Click on **Frame** -> **New Frame RGB**\n",
    "2. A small window will open titled *RGB*. Move this to the side so that you can see both it and the main DS9 window.\n",
    "3. Initally, you'll notice that all 3 frames are checked as viewable, and in the *Current* column, the button next to *Red* should be selected. If not, click on it.\n",
    "4. Go to **File** -> **Open** and select the \"\\_R\" fits file.\n",
    "5. In the main DS9 window, that band should now appear.\n",
    "6. In the *RGB* window, click the radio button in the *Current* column next to *Green*. Then go to **File** -> **Open** and select the \"\\_G\" fits file.\n",
    "7. Repeat Step 6 for the blue band.\n",
    "\n",
    "Now in the main DS9 window, the original image should be visible! "
   ]
  },
  {
   "cell_type": "markdown",
   "metadata": {},
   "source": [
    "### Downloading images\n",
    "\n",
    "This all has been fun, but we can apply all of these methods to (almost) any image you can find on the internet. To download a new image to play with, use the ```downloader``` function:\n",
    "```\n",
    "downloader(\"https://tinyurl.com/y8j7jvxv\", \"Disneyland.png\")\n",
    "```\n",
    "Note that both arguments are inside of quotation marks. The first thing is the url to the image (if you're looking at an image online, right click on it and an option like \"Copy Image Address\" or \"Copy Image Location\" should appear). The second is a name to give the file so that we can use it later...\n",
    "\n",
    "Now we can do things like this (note that rebinning the image only works in greyscale, so if you input a colored image, that method will return a greyscale image)\n",
    "\n",
    "### Alternative method of downloading images\n",
    "\n",
    "Want to use something already on your computer? If you go to the binder file directory, the upper right has an option to **Upload** a file. Click on it, find your file of choice, and select it. Binder gives you an option to rename the file if you'd like, and then press the blue upload button"
   ]
  },
  {
   "cell_type": "code",
   "execution_count": null,
   "metadata": {
    "collapsed": false
   },
   "outputs": [],
   "source": [
    "#monterey.png:\n",
    "#image I took in Monterey, CA. Based on the size of the flowers, I think the image is \n",
    "#approximately 2 yards across\n",
    "#and 2 yards high (so 72 inches by 72 inches)\n",
    "#url: https://tinyurl.com/ydeolnwk\n",
    "\n",
    "#Disneyland.png:\n",
    "#image I took in Disneyland. Mickey's Fun Wheel is approximately 160' across\n",
    "#so I'm estimating that the image is 390 feet wide and 220 feet high\n",
    "#url: https://tinyurl.com/y8j7jvxv"
   ]
  },
  {
   "cell_type": "code",
   "execution_count": null,
   "metadata": {
    "collapsed": false
   },
   "outputs": [],
   "source": [
    "download()"
   ]
  },
  {
   "cell_type": "code",
   "execution_count": null,
   "metadata": {
    "collapsed": false
   },
   "outputs": [],
   "source": [
    "start_rebin_RGB()"
   ]
  },
  {
   "cell_type": "markdown",
   "metadata": {},
   "source": [
    "### Additional information in more colors\n",
    "\n",
    "RGB images have more information in them, simply by having more colors. Start the program below which will rebin the image, but in greyscale only. Change the number of bins and filename to be the same as above"
   ]
  },
  {
   "cell_type": "code",
   "execution_count": null,
   "metadata": {
    "collapsed": false
   },
   "outputs": [],
   "source": [
    "start_rebin()"
   ]
  },
  {
   "cell_type": "code",
   "execution_count": null,
   "metadata": {
    "collapsed": false
   },
   "outputs": [],
   "source": [
    "start_rescale_rebin_RGB()"
   ]
  },
  {
   "cell_type": "code",
   "execution_count": null,
   "metadata": {
    "collapsed": true
   },
   "outputs": [],
   "source": []
  },
  {
   "cell_type": "code",
   "execution_count": null,
   "metadata": {
    "collapsed": false
   },
   "outputs": [],
   "source": [
    "start_rescale_rebin()"
   ]
  },
  {
   "cell_type": "code",
   "execution_count": null,
   "metadata": {
    "collapsed": true
   },
   "outputs": [],
   "source": []
  }
 ],
 "metadata": {
  "kernelspec": {
   "display_name": "Python 2",
   "language": "python",
   "name": "python2"
  },
  "language_info": {
   "codemirror_mode": {
    "name": "ipython",
    "version": 2
   },
   "file_extension": ".py",
   "mimetype": "text/x-python",
   "name": "python",
   "nbconvert_exporter": "python",
   "pygments_lexer": "ipython2",
   "version": "2.7.13"
  }
 },
 "nbformat": 4,
 "nbformat_minor": 0
}
