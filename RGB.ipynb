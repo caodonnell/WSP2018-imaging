{
 "cells": [
  {
   "cell_type": "code",
   "execution_count": 1,
   "metadata": {
    "collapsed": true
   },
   "outputs": [],
   "source": [
    "from allfuncs import *\n",
    "%matplotlib notebook"
   ]
  },
  {
   "cell_type": "code",
   "execution_count": 2,
   "metadata": {
    "collapsed": false
   },
   "outputs": [],
   "source": [
    "splitRGB(img_name='rainbowvalley.jpg')"
   ]
  },
  {
   "cell_type": "markdown",
   "metadata": {},
   "source": [
    "### Download the RGB files\n",
    "\n",
    "Now if you return to the main binder window with the file directory. You may have to wait a few seconds, but then you'll see 3 new files with the same name as your original image, but their file extension is \".fits\" (a specific image type). They're denoted as \"\\_R\", \"\\_G\", and \"\\_B\", referring to the red, green, and blue color bands in the original image. For example, if you ran splitRGB on rainbowvalley.jpg, the resulting files are\n",
    "- rainbowvalley_R.fits\n",
    "- rainbowvalley_G.fits\n",
    "- rainbowvalley_B.fits\n",
    "\n",
    "To download these files, click the checkbox next to one of the file names and a \"download\" option will appear at the top. Unfortunately, due to a bug in binder, you'll have to download these files one at a time.\n",
    "\n",
    "### Making 3-Color Images in DS9\n",
    "\n",
    "Next, open the DS9 application, which you should have downloaded from http://ds9.si.edu/site/Download.html\n",
    "\n",
    "1. Click on **Frame** -> **New Frame RGB**\n",
    "2. A small window will open titled *RGB*. Move this to the side so that you can see both it and the main DS9 window.\n",
    "3. Initally, you'll notice that all 3 frames are checked as viewable, and in the *Current* column, the button next to *Red* should be selected. If not, click on it.\n",
    "4. Go to **File** -> **Open** and select the \"\\_R\" fits file.\n",
    "5. In the main DS9 window, that band should now appear.\n",
    "6. In the *RGB* window, click the radio button in the *Current* column next to *Green*. Then go to **File** -> **Open** and select the \"\\_G\" fits file.\n",
    "7. Repeat Step 6 for the blue band.\n",
    "\n",
    "Now in the main DS9 window, the original image should be visible! "
   ]
  },
  {
   "cell_type": "code",
   "execution_count": null,
   "metadata": {
    "collapsed": true
   },
   "outputs": [],
   "source": []
  }
 ],
 "metadata": {
  "kernelspec": {
   "display_name": "Python 2",
   "language": "python",
   "name": "python2"
  },
  "language_info": {
   "codemirror_mode": {
    "name": "ipython",
    "version": 2
   },
   "file_extension": ".py",
   "mimetype": "text/x-python",
   "name": "python",
   "nbconvert_exporter": "python",
   "pygments_lexer": "ipython2",
   "version": "2.7.13"
  }
 },
 "nbformat": 4,
 "nbformat_minor": 0
}
