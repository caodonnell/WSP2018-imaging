{
 "cells": [
  {
   "cell_type": "markdown",
   "metadata": {},
   "source": [
    "Welcome to jupyter notebooks! This is an easy visual way to interact with lots of code. Feel free to go back to see the mass of python that went into this.\n",
    "\n",
    "Some notes: execute this cell first (hit \"shift\" and \"enter\" together to make it happen!)"
   ]
  },
  {
   "cell_type": "code",
   "execution_count": 1,
   "metadata": {
    "collapsed": false,
    "scrolled": true
   },
   "outputs": [],
   "source": [
    "from allfuncs import *\n",
    "%matplotlib notebook"
   ]
  },
  {
   "cell_type": "markdown",
   "metadata": {},
   "source": [
    "When a cell is running, to the left it'll say  \"In [\\*]\". The asterisk indicate the cell is running. When it's completed it'll be replaced with a number indicating when it was ran. Try the cell below:"
   ]
  },
  {
   "cell_type": "code",
   "execution_count": null,
   "metadata": {
    "collapsed": false
   },
   "outputs": [],
   "source": [
    "time.sleep(5)\n",
    "print(\"as you watched, the asterisk was replaced with a number - probably a 2, indicating the cell was run second. The cell above will probably have a 1 (or at least a lower number than this cell)\")"
   ]
  },
  {
   "cell_type": "code",
   "execution_count": 2,
   "metadata": {
    "collapsed": false
   },
   "outputs": [],
   "source": [
    "start_rescale()"
   ]
  },
  {
   "cell_type": "markdown",
   "metadata": {},
   "source": [
    "Note that your results will not be saved - if you want to save an image, right click on it and select \"Save Image As\""
   ]
  },
  {
   "cell_type": "markdown",
   "metadata": {},
   "source": [
    "Original img available at https://www.nasa.gov/sites/default/files/styles/full_width_feature/public/thumbnails/image/lestermadeline_vir_2016242_lrg.jpg"
   ]
  },
  {
   "cell_type": "markdown",
   "metadata": {
    "collapsed": true
   },
   "source": [
    "So why not use the finest resolution possible every time? An image with lots and lots of pixels takes up a lot of space, and if we want to manipulate it, a lot of computing resources. For example, the original image is 11 MB whereas a pixel scale of 5 miles/pixel reduces it to 53 KB - a compression factor of 200 times. It means we could store and analyze at least 200 times as many images by reducing the pixel scale! "
   ]
  },
  {
   "cell_type": "markdown",
   "metadata": {
    "collapsed": true
   },
   "source": [
    "### Working on different images\n",
    "\n",
    "There are a few different images to play with...\n",
    "\n",
    "For the resizing function to work, it needs to know what the image's width and height are in physical units. For example, in the hurricane image above, the code knows the image has a certain number of pixels, but it doesn't know what physical area the image represents. \n",
    "\n",
    "If you want to use a different image, you'll have to specify the physical scales. For example, the hurricane image is 2,600 miles across and 1,600 miles from top to bottom.\n",
    "\n",
    "You'll get the name of a new image to work with. If you look at the binder file directory, you can open up the image to see what it looks like. Can you figure out the width and height of the image?\n",
    "\n",
    "What scales might you want to resize the image to?"
   ]
  },
  {
   "cell_type": "code",
   "execution_count": null,
   "metadata": {
    "collapsed": true
   },
   "outputs": [],
   "source": []
  }
 ],
 "metadata": {
  "kernelspec": {
   "display_name": "Python 2",
   "language": "python",
   "name": "python2"
  },
  "language_info": {
   "codemirror_mode": {
    "name": "ipython",
    "version": 2
   },
   "file_extension": ".py",
   "mimetype": "text/x-python",
   "name": "python",
   "nbconvert_exporter": "python",
   "pygments_lexer": "ipython2",
   "version": "2.7.13"
  }
 },
 "nbformat": 4,
 "nbformat_minor": 0
}
