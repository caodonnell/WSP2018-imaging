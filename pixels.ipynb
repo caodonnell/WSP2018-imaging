{
 "cells": [
  {
   "cell_type": "code",
   "execution_count": 1,
   "metadata": {
    "collapsed": false,
    "scrolled": true
   },
   "outputs": [],
   "source": [
    "from allfuncs import *\n",
    "\n",
    "%matplotlib inline"
   ]
  },
  {
   "cell_type": "markdown",
   "metadata": {},
   "source": [
    "Welcome to jupyter notebooks! This is an easy visual way to interact with lots of code. Feel free to go back to see the mass of python that went into this.\n",
    "\n",
    "Some notes: execute this cell first (hit \"shift\" and \"enter\" together to make it happen!)"
   ]
  },
  {
   "cell_type": "markdown",
   "metadata": {},
   "source": [
    "When a cell is running, to the left it'll say  \"In [\\*]\". The asterisk indicate the cell is running. When it's completed it'll be replaced with a number indicating when it was ran."
   ]
  },
  {
   "cell_type": "markdown",
   "metadata": {},
   "source": [
    "Original img available at https://www.nasa.gov/sites/default/files/styles/full_width_feature/public/thumbnails/image/lestermadeline_vir_2016242_lrg.jpg"
   ]
  },
  {
   "cell_type": "code",
   "execution_count": null,
   "metadata": {
    "collapsed": false
   },
   "outputs": [],
   "source": [
    "newscale = 10 #miles/px\n",
    "\n",
    "resize(newscale)"
   ]
  },
  {
   "cell_type": "code",
   "execution_count": null,
   "metadata": {
    "collapsed": true
   },
   "outputs": [],
   "source": []
  }
 ],
 "metadata": {
  "kernelspec": {
   "display_name": "Python 2",
   "language": "python",
   "name": "python2"
  },
  "language_info": {
   "codemirror_mode": {
    "name": "ipython",
    "version": 2
   },
   "file_extension": ".py",
   "mimetype": "text/x-python",
   "name": "python",
   "nbconvert_exporter": "python",
   "pygments_lexer": "ipython2",
   "version": "2.7.13"
  }
 },
 "nbformat": 4,
 "nbformat_minor": 0
}
