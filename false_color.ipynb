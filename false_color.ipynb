{
 "cells": [
  {
   "cell_type": "markdown",
   "metadata": {},
   "source": [
    "# Task 4: False-Color Images\n",
    "\n",
    "As you likely figured out from the previous task, it's fairly easy to manipulate an image's colors to reflect something that isn't visible to the human eye. Most cameras are tuned to record the world in the same way that we see it, but some cameras are designed to do something different.\n",
    "\n",
    "## Infrared and UV images\n",
    "\n",
    "From the file directory, download DunfieldCreek.zip \n",
    "\n",
    "Now try it with cactus.zip"
   ]
  },
  {
   "cell_type": "markdown",
   "metadata": {},
   "source": []
  }
 ],
 "metadata": {
  "kernelspec": {
   "display_name": "Python 2",
   "language": "python",
   "name": "python2"
  },
  "language_info": {
   "codemirror_mode": {
    "name": "ipython",
    "version": 2
   },
   "file_extension": ".py",
   "mimetype": "text/x-python",
   "name": "python",
   "nbconvert_exporter": "python",
   "pygments_lexer": "ipython2",
   "version": "2.7.13"
  }
 },
 "nbformat": 4,
 "nbformat_minor": 0
}
