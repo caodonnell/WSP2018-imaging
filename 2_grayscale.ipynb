{
 "cells": [
  {
   "cell_type": "markdown",
   "metadata": {},
   "source": [
    "# Task 2: rebinning the colors in a (grayscale) image\n",
    "\n",
    "Now that we've tested the resolution and physical scale of an image, we'll use some programs to test what happens when we control how many colors are available - put another way, how much information can be contained in an image. Run the cell below the access the programs:"
   ]
  },
  {
   "cell_type": "code",
   "execution_count": null,
   "metadata": {},
   "outputs": [],
   "source": [
    "%run programcode.ipynb"
   ]
  },
  {
   "cell_type": "markdown",
   "metadata": {},
   "source": [
    "As with the previous notebook, run the next cell to start the rebinning program. We'll start with the same hurricane image as before, though this has been rescaled to a resolution of 5 miles/pixel to reduce the time it takes to recolor the image. The program will ask you to enter in how many bins (i.e., colors) you want the final image to have. How many colors do you need to make out details in the hurricanes?"
   ]
  },
  {
   "cell_type": "code",
   "execution_count": null,
   "metadata": {},
   "outputs": [],
   "source": [
    "start_rebin()"
   ]
  },
  {
   "cell_type": "markdown",
   "metadata": {},
   "source": [
    "Now that you've explored this program, try it on the other images you used before"
   ]
  },
  {
   "cell_type": "markdown",
   "metadata": {},
   "source": [
    "## Combining physical and color scales\n",
    "\n",
    "Previously, we've rescaled the resolution of this image, and now we're playing around the number of colors. You can combine these two methods - try it below using lestermadeline_BW_5mile.jpg as above or one of the other hurricane_damage images from the last task.\n",
    "\n",
    "Note that you have to specify both a scale and a number of bins. What happens if you change one of these parameters while leaving the other one constant?"
   ]
  },
  {
   "cell_type": "code",
   "execution_count": null,
   "metadata": {},
   "outputs": [],
   "source": [
    "start_rescale_rebin()"
   ]
  },
  {
   "cell_type": "markdown",
   "metadata": {
    "collapsed": true
   },
   "source": [
    "## Extension: rebinning your own images\n",
    "\n",
    "(Note that these instructions the same as in ```1_pixels.ipynb```)\n",
    "\n",
    "You can also add your own images to manipulate. You have two options for how to add new images:\n",
    "\n",
    "1. **Download images from the Internet:** To download a new image to play with, use the ```download``` program below. It'll ask you for URL to the image (if you're looking at an image online, right click on it and an option like \"Copy Image Address\" or \"Copy Image Location\" should appear), and it also asks for what to name the image file when it's downloaded. If you use this function, it'll download the image to the Binder file directory, and you can use it in any of these programs using the given file name. Note that when you close the Binder, it won't save any changes including new files. If you want to use these images again, you'll have to re-download them."
   ]
  },
  {
   "cell_type": "code",
   "execution_count": null,
   "metadata": {},
   "outputs": [],
   "source": [
    "download()"
   ]
  },
  {
   "cell_type": "markdown",
   "metadata": {},
   "source": [
    "2. **Upload images from your computer:** Want to use something already on your computer? If you go to the binder file directory, the upper right has an option to **Upload** a file. Click on it, find your file of choice, and select it. Binder gives you an option to rename the file if you'd like, and then press the blue upload button. This is a good choice if you think you might want to re-use these images in other activities - again, Binder won't save any changes, but you can re-upload them the next time you want them rather than having to find the URL again.\n",
    "\n",
    "\n",
    "The cell below starts the rebinning program (note that this version of the program only works in grayscale, so even if your image is in color, the result will be in black and white). Try it with your new image(s)!"
   ]
  },
  {
   "cell_type": "code",
   "execution_count": null,
   "metadata": {},
   "outputs": [],
   "source": [
    "start_rebin()"
   ]
  },
  {
   "cell_type": "markdown",
   "metadata": {},
   "source": [
    "You can also use your images in the program to rescale and rebin images. Try that below (again note that this is grayscale only):"
   ]
  },
  {
   "cell_type": "code",
   "execution_count": null,
   "metadata": {},
   "outputs": [],
   "source": [
    "start_rescale_rebin()"
   ]
  },
  {
   "cell_type": "markdown",
   "metadata": {},
   "source": [
    "# Homework\n",
    "\n",
    "### ...which really just means \"please download this software before tomorrow morning\"\n",
    "\n",
    "For the next couple of activities, please install the following:\n",
    "\n",
    "**DS9:** This is a software created by/for astronomers to manipulate images - specifically, to make 3-color RGB images and false-color images. While most photographers will likely do similar tasks in Photoshop or other software, DS9 has all of the tools we'll need and it's free. Please download it from http://ds9.si.edu/site/Download.html\n",
    "\n",
    "**Smartphone Apps:** We'll also be playing with some smartphone apps. If you have a smartphone, please download the following:\n",
    "* Magnometer: The links below lead to a free magnometer app, but feel free to search your phone's app store to find a different one if you'd prefer.\n",
    "  * Android: [Google Play Store link](https://play.google.com/store/apps/details?id=com.chrystianvieyra.android.physicstoolboxmagnetometer). After downloading this verion, I recommend adjusting the settings a bit (the wheel in the upper right corner of the app):\n",
    "    * Under \"Data Display\", select \"Display Readout\" (default is a graph, but we just want the value)\n",
    "    * Under \"Displayed Axis\", un-select \"X\", \"Y\", and \"Z\" (we only need the total magnetic field)\n",
    "    * Under \"Units of Measurement*, select \"Gauss\"\n",
    "    * Scroll further down to \"Sensor Collection Rate\" and select \"Normal\"\n",
    "  * Apple: [ioS App Store link](https://itunes.apple.com/us/app/physics-toolbox-magnetometer/id1003749103). For whatever reason, this app does not have settings to adjust. The total magnetic field is reported in the upper right corner as \"Btotal\" in units of microTesla ($\\mu$T)"
   ]
  },
  {
   "cell_type": "code",
   "execution_count": null,
   "metadata": {},
   "outputs": [],
   "source": []
  }
 ],
 "metadata": {
  "kernelspec": {
   "display_name": "Python [default]",
   "language": "python",
   "name": "python2"
  },
  "language_info": {
   "codemirror_mode": {
    "name": "ipython",
    "version": 2
   },
   "file_extension": ".py",
   "mimetype": "text/x-python",
   "name": "python",
   "nbconvert_exporter": "python",
   "pygments_lexer": "ipython2",
   "version": "2.7.13"
  }
 },
 "nbformat": 4,
 "nbformat_minor": 1
}
